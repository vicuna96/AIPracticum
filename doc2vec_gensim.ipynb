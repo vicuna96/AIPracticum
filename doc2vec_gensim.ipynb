{
 "cells": [
  {
   "cell_type": "code",
   "execution_count": 1,
   "metadata": {},
   "outputs": [],
   "source": [
    "from gensim.corpora.wikicorpus import WikiCorpus\n",
    "from gensim.models.doc2vec import Doc2Vec, TaggedDocument\n",
    "import multiprocessing\n",
    "import numpy as np"
   ]
  },
  {
   "cell_type": "code",
   "execution_count": 3,
   "metadata": {},
   "outputs": [],
   "source": [
    "folder = \"\"\n",
    "file = \"enwiki-latest-abstract.xml.gz\"\n",
    "model_name = \"word2vec_abstracts_full.model\""
   ]
  },
  {
   "cell_type": "code",
   "execution_count": 1,
   "metadata": {},
   "outputs": [],
   "source": [
    "from smart_open import smart_open\n",
    "import json"
   ]
  },
  {
   "cell_type": "code",
   "execution_count": null,
   "metadata": {},
   "outputs": [],
   "source": []
  },
  {
   "cell_type": "code",
   "execution_count": null,
   "metadata": {},
   "outputs": [
    {
     "name": "stderr",
     "output_type": "stream",
     "text": [
      "Process InputQueue-4:\n",
      "Traceback (most recent call last):\n",
      "  File \"/home/vicuna96/anaconda3/envs/cs4701/lib/python3.6/multiprocessing/process.py\", line 258, in _bootstrap\n",
      "    self.run()\n",
      "  File \"/home/vicuna96/anaconda3/envs/cs4701/lib/python3.6/site-packages/gensim/utils.py\", line 1218, in run\n",
      "    wrapped_chunk = [list(chunk)]\n",
      "  File \"/home/vicuna96/anaconda3/envs/cs4701/lib/python3.6/site-packages/gensim/corpora/wikicorpus.py\", line 676, in <genexpr>\n",
      "    ((text, self.lemmatize, title, pageid, tokenization_params)\n",
      "  File \"/home/vicuna96/anaconda3/envs/cs4701/lib/python3.6/site-packages/gensim/corpora/wikicorpus.py\", line 415, in extract_pages\n",
      "    elem = next(elems)\n",
      "  File \"/home/vicuna96/anaconda3/envs/cs4701/lib/python3.6/site-packages/gensim/corpora/wikicorpus.py\", line 409, in <genexpr>\n",
      "    elems = (elem for _, elem in iterparse(f, events=(\"end\",)))\n",
      "  File \"/home/vicuna96/anaconda3/envs/cs4701/lib/python3.6/xml/etree/ElementTree.py\", line 1223, in iterator\n",
      "    data = source.read(16 * 1024)\n",
      "  File \"/home/vicuna96/anaconda3/envs/cs4701/lib/python3.6/bz2.py\", line 182, in read\n",
      "    return self._buffer.read(size)\n",
      "  File \"/home/vicuna96/anaconda3/envs/cs4701/lib/python3.6/_compression.py\", line 68, in readinto\n",
      "    data = self.read(len(byte_view))\n",
      "  File \"/home/vicuna96/anaconda3/envs/cs4701/lib/python3.6/_compression.py\", line 103, in read\n",
      "    data = self._decompressor.decompress(rawblock, size)\n",
      "OSError: Invalid data stream\n"
     ]
    }
   ],
   "source": [
    "for article in WikiCorpus(folder+file):\n",
    "    print(\"2\")\n",
    "    print(article)"
   ]
  },
  {
   "cell_type": "code",
   "execution_count": 32,
   "metadata": {},
   "outputs": [],
   "source": [
    "documents = TaggedWikiDocument(wiki)"
   ]
  },
  {
   "cell_type": "code",
   "execution_count": 33,
   "metadata": {},
   "outputs": [],
   "source": [
    "cores = multiprocessing.cpu_count()"
   ]
  },
  {
   "cell_type": "code",
   "execution_count": 35,
   "metadata": {},
   "outputs": [],
   "source": [
    "# PV-DBOW \n",
    "model = Doc2Vec(dm=0, dbow_words=1, size=200, window=8, min_count=19, epochs=5, workers=cores)"
   ]
  },
  {
   "cell_type": "code",
   "execution_count": 36,
   "metadata": {},
   "outputs": [
    {
     "name": "stdout",
     "output_type": "stream",
     "text": [
      "CPU times: user 44.6 s, sys: 3.06 s, total: 47.7 s\n",
      "Wall time: 5min 24s\n"
     ]
    }
   ],
   "source": [
    "%time model.build_vocab(documents)"
   ]
  },
  {
   "cell_type": "code",
   "execution_count": 37,
   "metadata": {},
   "outputs": [
    {
     "name": "stderr",
     "output_type": "stream",
     "text": [
      "/home/vicuna96/anaconda3/lib/python3.7/site-packages/ipykernel_launcher.py:1: DeprecationWarning: Call to deprecated `iter` (Attribute will be removed in 4.0.0, use self.epochs instead).\n",
      "  \"\"\"Entry point for launching an IPython kernel.\n"
     ]
    },
    {
     "name": "stdout",
     "output_type": "stream",
     "text": [
      "CPU times: user 2h 2min 31s, sys: 20 s, total: 2h 2min 51s\n",
      "Wall time: 57min\n"
     ]
    }
   ],
   "source": [
    "%time model.train(documents, total_examples=model.corpus_count, epochs=model.epochs)"
   ]
  },
  {
   "cell_type": "code",
   "execution_count": 39,
   "metadata": {},
   "outputs": [],
   "source": [
    "model.save(model_name)"
   ]
  },
  {
   "cell_type": "code",
   "execution_count": 3,
   "metadata": {},
   "outputs": [],
   "source": [
    "# model2 = Doc2Vec.load(model_name)\n",
    "model = Doc2Vec.load('test_doc2vec.model')"
   ]
  },
  {
   "cell_type": "code",
   "execution_count": 4,
   "metadata": {},
   "outputs": [
    {
     "data": {
      "text/plain": [
       "[('Antarctic Circumpolar Current', 0.6839228868484497),\n",
       " ('North Atlantic Deep Water', 0.6506155729293823),\n",
       " ('Oligocene', 0.6334332227706909),\n",
       " ('Norwegian Sea', 0.6324388384819031),\n",
       " ('Pacific Ocean', 0.6016518473625183),\n",
       " ('Indian Ocean', 0.5974256992340088),\n",
       " ('Strait of Gibraltar', 0.5971487760543823),\n",
       " ('Paleogene', 0.5949691534042358),\n",
       " ('Mediterranean Sea', 0.5939801931381226),\n",
       " ('Phanerozoic', 0.5870522260665894),\n",
       " ('Geography of the Falkland Islands', 0.5862263441085815),\n",
       " ('Pleistocene', 0.5820302963256836),\n",
       " ('Caribbean Sea', 0.580460786819458),\n",
       " ('North Atlantic Current', 0.5795803070068359),\n",
       " ('North Sea', 0.5756570100784302),\n",
       " ('Eocene', 0.5620502233505249),\n",
       " ('Miocene', 0.5576773285865784),\n",
       " ('Holocene', 0.5571863651275635),\n",
       " ('Cenozoic', 0.556058943271637),\n",
       " ('Pliocene', 0.5482410788536072)]"
      ]
     },
     "execution_count": 4,
     "metadata": {},
     "output_type": "execute_result"
    }
   ],
   "source": [
    "model.docvecs.most_similar(positive=[\"Atlantic Ocean\"], topn=20)"
   ]
  },
  {
   "cell_type": "code",
   "execution_count": 12,
   "metadata": {},
   "outputs": [
    {
     "data": {
      "text/plain": [
       "'Atlantic Ocean'"
      ]
     },
     "execution_count": 12,
     "metadata": {},
     "output_type": "execute_result"
    }
   ],
   "source": [
    "model.docvecs.most_similar_to_given(\"Atlantic Ocean\", [\"Atlantic Ocean\", \"Atom\"])"
   ]
  },
  {
   "cell_type": "code",
   "execution_count": 59,
   "metadata": {},
   "outputs": [
    {
     "data": {
      "text/plain": [
       "<gensim.models.keyedvectors.Doc2VecKeyedVectors at 0x7f61c3bf82e8>"
      ]
     },
     "execution_count": 59,
     "metadata": {},
     "output_type": "execute_result"
    }
   ],
   "source": [
    "model.docvecs"
   ]
  },
  {
   "cell_type": "code",
   "execution_count": 13,
   "metadata": {},
   "outputs": [
    {
     "data": {
      "text/plain": [
       "0.036884222"
      ]
     },
     "execution_count": 13,
     "metadata": {},
     "output_type": "execute_result"
    }
   ],
   "source": [
    "np.dot(model[\"machine\"]/np.sum(model[\"machine\"]**2), model[\"turing\"]/np.sum(model[\"turing\"]**2))"
   ]
  },
  {
   "cell_type": "code",
   "execution_count": 16,
   "metadata": {},
   "outputs": [],
   "source": [
    "cosine = lambda x, y : np.dot(x/np.sum(x**2), y/np.sum(y**2))"
   ]
  },
  {
   "cell_type": "code",
   "execution_count": 17,
   "metadata": {},
   "outputs": [
    {
     "name": "stdout",
     "output_type": "stream",
     "text": [
      "Car and Turing 0.009316729\n",
      "Machine and Turing 0.036884222\n",
      "Machine and Car 0.020423802\n"
     ]
    }
   ],
   "source": [
    "car = model[\"car\"]\n",
    "turing = model[\"turing\"]\n",
    "machine = model[\"machine\"]\n",
    "print(\"Car and Turing\", cosine(car,turing))\n",
    "print(\"Machine and Turing\", cosine(machine,turing))\n",
    "print(\"Machine and Car\", cosine(machine,car))"
   ]
  },
  {
   "cell_type": "code",
   "execution_count": null,
   "metadata": {},
   "outputs": [],
   "source": []
  }
 ],
 "metadata": {
  "kernelspec": {
   "display_name": "Python 3",
   "language": "python",
   "name": "python3"
  },
  "language_info": {
   "codemirror_mode": {
    "name": "ipython",
    "version": 3
   },
   "file_extension": ".py",
   "mimetype": "text/x-python",
   "name": "python",
   "nbconvert_exporter": "python",
   "pygments_lexer": "ipython3",
   "version": "3.6.8"
  }
 },
 "nbformat": 4,
 "nbformat_minor": 2
}
