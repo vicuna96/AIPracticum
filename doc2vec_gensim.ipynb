{
 "cells": [
  {
   "cell_type": "code",
   "execution_count": 62,
   "metadata": {},
   "outputs": [],
   "source": [
    "from gensim.corpora.wikicorpus import WikiCorpus\n",
    "from gensim.models.doc2vec import Doc2Vec, TaggedDocument\n",
    "import multiprocessing\n",
    "import numpy as np"
   ]
  },
  {
   "cell_type": "code",
   "execution_count": 38,
   "metadata": {},
   "outputs": [],
   "source": [
    "folder = \"/mnt/c/Users/danis_000/NLPembeddings/\"\n",
    "file = \"enwiki-latest-pages-articles1.xml-p10p30302.bz2\"\n",
    "model_name = \"wiki.en.word2vec.model\""
   ]
  },
  {
   "cell_type": "code",
   "execution_count": 15,
   "metadata": {},
   "outputs": [],
   "source": [
    "wiki = WikiCorpus(folder+file)"
   ]
  },
  {
   "cell_type": "code",
   "execution_count": 31,
   "metadata": {},
   "outputs": [],
   "source": [
    "class TaggedWikiDocument(object):\n",
    "    def __init__(self, wiki):\n",
    "        self.wiki = wiki\n",
    "        self.wiki.metadata = True\n",
    "    def __iter__(self):\n",
    "        for content, (page_id, title) in self.wiki.get_texts():\n",
    "            yield TaggedDocument([c for c in content], [title])"
   ]
  },
  {
   "cell_type": "code",
   "execution_count": 32,
   "metadata": {},
   "outputs": [],
   "source": [
    "documents = TaggedWikiDocument(wiki)"
   ]
  },
  {
   "cell_type": "code",
   "execution_count": 33,
   "metadata": {},
   "outputs": [],
   "source": [
    "cores = multiprocessing.cpu_count()"
   ]
  },
  {
   "cell_type": "code",
   "execution_count": 35,
   "metadata": {},
   "outputs": [],
   "source": [
    "# PV-DBOW \n",
    "model = Doc2Vec(dm=0, dbow_words=1, size=200, window=8, min_count=19, epochs=5, workers=cores)"
   ]
  },
  {
   "cell_type": "code",
   "execution_count": 36,
   "metadata": {},
   "outputs": [
    {
     "name": "stdout",
     "output_type": "stream",
     "text": [
      "CPU times: user 44.6 s, sys: 3.06 s, total: 47.7 s\n",
      "Wall time: 5min 24s\n"
     ]
    }
   ],
   "source": [
    "%time model.build_vocab(documents)"
   ]
  },
  {
   "cell_type": "code",
   "execution_count": 37,
   "metadata": {},
   "outputs": [
    {
     "name": "stderr",
     "output_type": "stream",
     "text": [
      "/home/vicuna96/anaconda3/lib/python3.7/site-packages/ipykernel_launcher.py:1: DeprecationWarning: Call to deprecated `iter` (Attribute will be removed in 4.0.0, use self.epochs instead).\n",
      "  \"\"\"Entry point for launching an IPython kernel.\n"
     ]
    },
    {
     "name": "stdout",
     "output_type": "stream",
     "text": [
      "CPU times: user 2h 2min 31s, sys: 20 s, total: 2h 2min 51s\n",
      "Wall time: 57min\n"
     ]
    }
   ],
   "source": [
    "%time model.train(documents, total_examples=model.corpus_count, epochs=model.epochs)"
   ]
  },
  {
   "cell_type": "code",
   "execution_count": 39,
   "metadata": {},
   "outputs": [],
   "source": [
    "model.save(model_name)"
   ]
  },
  {
   "cell_type": "code",
   "execution_count": 40,
   "metadata": {},
   "outputs": [],
   "source": [
    "model2 = Doc2Vec.load(model_name)"
   ]
  },
  {
   "cell_type": "code",
   "execution_count": 53,
   "metadata": {},
   "outputs": [
    {
     "data": {
      "text/plain": [
       "[('Antarctic Circumpolar Current', 0.6999729871749878),\n",
       " ('North Atlantic Deep Water', 0.6625993847846985),\n",
       " ('Oligocene', 0.6617370843887329),\n",
       " ('Norwegian Sea', 0.6291526556015015),\n",
       " ('Pacific Ocean', 0.6272916793823242),\n",
       " ('Indian Ocean', 0.6067275404930115),\n",
       " ('North Atlantic Current', 0.5943110585212708),\n",
       " ('Strait of Gibraltar', 0.5925824046134949),\n",
       " ('Mediterranean Sea', 0.5882935523986816),\n",
       " ('Geography of the Falkland Islands', 0.5858149528503418),\n",
       " ('Caribbean Sea', 0.5847128629684448),\n",
       " ('North Sea', 0.5846424698829651),\n",
       " ('Paleogene', 0.5840442776679993),\n",
       " ('Miocene', 0.5774627327919006),\n",
       " ('Pleistocene', 0.5772634744644165),\n",
       " ('Pliocene', 0.5717372894287109),\n",
       " ('Red Sea', 0.5674933195114136),\n",
       " ('Holocene', 0.5654497146606445),\n",
       " ('Phanerozoic', 0.5631661415100098),\n",
       " ('Geography of Saint Pierre and Miquelon', 0.5591236352920532)]"
      ]
     },
     "execution_count": 53,
     "metadata": {},
     "output_type": "execute_result"
    }
   ],
   "source": [
    "model.docvecs.most_similar(positive=[\"Atlantic Ocean\"], topn=20)"
   ]
  },
  {
   "cell_type": "code",
   "execution_count": 58,
   "metadata": {},
   "outputs": [
    {
     "data": {
      "text/plain": [
       "'Atlantic Ocean'"
      ]
     },
     "execution_count": 58,
     "metadata": {},
     "output_type": "execute_result"
    }
   ],
   "source": [
    "model.docvecs.most_similar_to_given(\"Atlantic Ocean\", [\"Atlantic Ocean\", \"Atom\"])"
   ]
  },
  {
   "cell_type": "code",
   "execution_count": 59,
   "metadata": {},
   "outputs": [
    {
     "data": {
      "text/plain": [
       "<gensim.models.keyedvectors.Doc2VecKeyedVectors at 0x7f61c3bf82e8>"
      ]
     },
     "execution_count": 59,
     "metadata": {},
     "output_type": "execute_result"
    }
   ],
   "source": [
    "model.docvecs"
   ]
  },
  {
   "cell_type": "code",
   "execution_count": 67,
   "metadata": {},
   "outputs": [
    {
     "data": {
      "text/plain": [
       "0.036783617"
      ]
     },
     "execution_count": 67,
     "metadata": {},
     "output_type": "execute_result"
    }
   ],
   "source": [
    "np.dot(model[\"machine\"]/np.sum(model[\"machine\"]**2), model[\"turing\"]/np.sum(model[\"turing\"]**2))"
   ]
  },
  {
   "cell_type": "code",
   "execution_count": 69,
   "metadata": {},
   "outputs": [],
   "source": [
    "cosine = lambda x, y : np.dot(x/np.sum(x**2), y/np.sum(y**2))"
   ]
  },
  {
   "cell_type": "code",
   "execution_count": 72,
   "metadata": {},
   "outputs": [
    {
     "name": "stdout",
     "output_type": "stream",
     "text": [
      "Car and Turing 0.009717448\n",
      "Machine and Turing 0.036783617\n",
      "Machine and Car 0.020174999\n"
     ]
    }
   ],
   "source": [
    "car = model[\"car\"]\n",
    "turing = model[\"turing\"]\n",
    "machine = model[\"machine\"]\n",
    "print(\"Car and Turing\", cosine(car,turing))\n",
    "print(\"Machine and Turing\", cosine(machine,turing))\n",
    "print(\"Machine and Car\", cosine(machine,car))"
   ]
  },
  {
   "cell_type": "code",
   "execution_count": null,
   "metadata": {},
   "outputs": [],
   "source": []
  }
 ],
 "metadata": {
  "kernelspec": {
   "display_name": "Python 3",
   "language": "python",
   "name": "python3"
  },
  "language_info": {
   "codemirror_mode": {
    "name": "ipython",
    "version": 3
   },
   "file_extension": ".py",
   "mimetype": "text/x-python",
   "name": "python",
   "nbconvert_exporter": "python",
   "pygments_lexer": "ipython3",
   "version": "3.7.1"
  }
 },
 "nbformat": 4,
 "nbformat_minor": 2
}
